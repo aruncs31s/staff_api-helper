{
 "cells": [
  {
   "cell_type": "code",
   "execution_count": 7,
   "id": "5fe6dabf",
   "metadata": {},
   "outputs": [
    {
     "name": "stdout",
     "output_type": "stream",
     "text": [
      "Enter Qualification Details:\n",
      "POST: URL http://127.0.0.1:9090/api/v1/staff/G1_EC/qualification\n",
      "Data: {'degree': 1, 'discipline': 'Electronics'}\n",
      "Status Code: 201\n",
      "Qualification Response: {'id': 7, 'staff_id': 1, 'degree': 1, 'discipline': 'Electronics', 'university': '', 'percentage': 0, 'year': 2000, 'sort': 0, 'type': 0, 'category': 0, 'status': 0, 'start_year': 2000, 'file': 'http://someurl.com/image.png', 'remarks': 'Not Set', 'qualification': 0, 'cgpa': 0}\n"
     ]
    }
   ],
   "source": [
    "\n",
    "from apis.api import STAFF_API\n",
    "\n",
    "def create_new_qualification(api: STAFF_API):\n",
    "    staff_id = \"G1_EC\"\n",
    "    print(\"Enter Qualification Details:\")\n",
    "    degree  = 1\n",
    "    discipline = \"Electronics\"\n",
    "    data = {\n",
    "        \"degree\": degree,\n",
    "        \"discipline\": discipline\n",
    "    }\n",
    "    resp  = api.register_qualification(staff_id, data = data)\n",
    "    print(f\"Qualification Response: {resp}\")\n",
    "\n",
    "\n",
    "api = STAFF_API(\"http://127.0.0.1:9090/api/v1/staff\")\n",
    "create_new_qualification(api)"
   ]
  },
  {
   "cell_type": "code",
   "execution_count": 2,
   "id": "53f7aa81",
   "metadata": {},
   "outputs": [
    {
     "data": {
      "text/plain": [
       "[{'id': 1,\n",
       "  'user_id': 1000,\n",
       "  'dept_id': 2,\n",
       "  'join_date': '2025-09-08T00:00:00+05:30',\n",
       "  'staff_id': 'G1_EC',\n",
       "  'type': 1,\n",
       "  'full_name': 'Arun CS',\n",
       "  'gender': 'Male',\n",
       "  'phone': '1234567890',\n",
       "  'status': 3,\n",
       "  'create_time': '2025-09-08T12:41:45.485492164+05:30',\n",
       "  'update_time': '2025-09-08T12:41:45.485492164+05:30',\n",
       "  'contract_type': 2,\n",
       "  'faculty_on_deputation': 0},\n",
       " {'id': 2,\n",
       "  'user_id': 1000,\n",
       "  'dept_id': 2,\n",
       "  'join_date': '2025-09-08T00:00:00+05:30',\n",
       "  'staff_id': 'G2_EC',\n",
       "  'type': 1,\n",
       "  'full_name': 'Praveen ABC',\n",
       "  'gender': 'Male',\n",
       "  'phone': '1234567890',\n",
       "  'status': 3,\n",
       "  'create_time': '2025-09-08T12:58:07.979327456+05:30',\n",
       "  'update_time': '2025-09-08T12:58:07.979327456+05:30',\n",
       "  'contract_type': 2,\n",
       "  'faculty_on_deputation': 0}]"
      ]
     },
     "execution_count": 2,
     "metadata": {},
     "output_type": "execute_result"
    }
   ],
   "source": [
    "import requests\n",
    "def get_all_staffs(self) -> list[dict[str, str | int]]:\n",
    "        \"\"\"Get all staffs from the Go API Server.\"\"\"\n",
    "        method = \"GET\"\n",
    "        response = requests.request(method, self.base_url)\n",
    "        response_data = response.json()\n",
    "        if response.status_code == 200:\n",
    "            return response_data.get(\"data\", [])\n",
    "        else:\n",
    "            print(f\"Failed to fetch staffs. Status Code: {response.status_code}, Response: {response.text}\")\n",
    "            return []\n",
    "get_all_staffs(api)"
   ]
  }
 ],
 "metadata": {
  "kernelspec": {
   "display_name": ".venv",
   "language": "python",
   "name": "python3"
  },
  "language_info": {
   "codemirror_mode": {
    "name": "ipython",
    "version": 3
   },
   "file_extension": ".py",
   "mimetype": "text/x-python",
   "name": "python",
   "nbconvert_exporter": "python",
   "pygments_lexer": "ipython3",
   "version": "3.13.7"
  }
 },
 "nbformat": 4,
 "nbformat_minor": 5
}
